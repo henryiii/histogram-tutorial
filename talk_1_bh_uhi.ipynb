{
 "cells": [
  {
   "cell_type": "markdown",
   "id": "027445be-61d3-47b5-b044-00885f4c7dde",
   "metadata": {},
   "source": [
    "# High-Performance Histogramming for HEP Analysis\n",
    "## Henry Schreiner, Aman Geol, and Shuo Liu\n"
   ]
  },
  {
   "cell_type": "markdown",
   "id": "4aed12da-2a5b-4199-9fe5-396aa945b40c",
   "metadata": {},
   "source": [
    "Run the code with us through Binder, altering examples and asking \"what if\" questions along the way :)\n",
    "\n",
    "[![Binder](https://mybinder.org/badge_logo.svg)](https://mybinder.org/v2/gh/henryiii/histogram-tutorial/master?filepath=talk_1_bh_uhi.ipynb)"
   ]
  },
  {
   "cell_type": "code",
   "execution_count": null,
   "id": "32ff8712-f422-43de-9e73-14b9e2c726d1",
   "metadata": {},
   "outputs": [],
   "source": [
    "import sys"
   ]
  },
  {
   "cell_type": "markdown",
   "id": "9d323477-2331-4592-9918-e57ff5ae8848",
   "metadata": {},
   "source": [
    "# A new era: boost-histogram 1.0!\n",
    "\n",
    "Boost-histogram 1.0 came out with some great features:\n",
    "\n",
    "* Removal of Python 2.7 & 3.5 support\n",
    "    * Fewer lines of code and more features than 0.13!\n",
    "* Fully staticly typed\n",
    "* Easier subclassing\n",
    "\n",
    "Along with many great features available in 0.11-0.13:\n",
    "* Much simpler, Pythonic metadata system\n",
    "* Much better access to accumulator storages\n",
    "* PlottableProtocol support! (see UHI section later)\n",
    "\n",
    "Huge updates to pybind11 & cibuildwheel as part of this work, too!\n",
    "* New CMake and setuptools helpers\n",
    "* 40% faster accumulation with less memory used\n",
    "* Python 3.9 support\n",
    "* Universal2 wheels for Apple Silicon, including 3.8+\n",
    "* And much more!"
   ]
  },
  {
   "cell_type": "markdown",
   "id": "bc3252d5-a7cc-47e5-98fb-d98473ae5f20",
   "metadata": {},
   "source": [
    "# Demo: statically typed Histogram"
   ]
  },
  {
   "cell_type": "code",
   "execution_count": null,
   "id": "12663aca-91a0-454b-bd36-600e90bd9d3e",
   "metadata": {},
   "outputs": [],
   "source": [
    "%%writefile tmp_bh_mypy.py\n",
    "\n",
    "import boost_histogram as bh\n",
    "\n",
    "h = bh.Histogram(bh.axis.StrCategory([\"good\", \"bad\", \"ugly\"]), storage=bh.storage.Double())\n",
    "\n",
    "vals = h.values()\n",
    "\n",
    "reveal_locals()\n",
    "\n",
    "# Try:\n",
    "# h = bh.Histogram(bh.axis.IntCategory([\"good\", \"bad\", \"ugly\"]), storage=bh.storage.Double())\n",
    "# h[\"hi\"]\n",
    "# h.value()"
   ]
  },
  {
   "cell_type": "code",
   "execution_count": null,
   "id": "add3250a-6f9a-43d5-a74d-fb354e17a27e",
   "metadata": {},
   "outputs": [],
   "source": [
    "!{sys.executable} -m mypy --strict tmp_bh_mypy.py"
   ]
  },
  {
   "cell_type": "markdown",
   "id": "13586719-915f-4839-b379-c8e4e2a1bce6",
   "metadata": {},
   "source": [
    "Try uncommenting some of the mistakes above!"
   ]
  },
  {
   "cell_type": "markdown",
   "id": "4e8ef52a-39dd-454a-8dc7-8bc5e3bad6ed",
   "metadata": {},
   "source": [
    "# Boost-histogram 1.1\n",
    "\n",
    "Released yesterday, boost-histogram 1.1 adds a few exciting features:\n",
    "\n",
    "* Experimental support for selection on category axes!\n",
    "* Python 3.8 Apple Silicon support (3.9 was already supported)\n",
    "* Scaling and addition affect flow bins"
   ]
  },
  {
   "cell_type": "code",
   "execution_count": null,
   "id": "e7d747d9-496f-471d-8c0f-b86e65a98c78",
   "metadata": {},
   "outputs": [],
   "source": [
    "import boost_histogram as bh"
   ]
  },
  {
   "cell_type": "code",
   "execution_count": null,
   "id": "859c0a59-99ce-4881-bcf2-fe072da8b0fd",
   "metadata": {},
   "outputs": [],
   "source": [
    "h = bh.Histogram(bh.axis.StrCategory([\"good\", \"bad\", \"ugly\"]))\n",
    "h"
   ]
  },
  {
   "cell_type": "code",
   "execution_count": null,
   "id": "20f42c76-e16e-46af-a831-579d54780259",
   "metadata": {},
   "outputs": [],
   "source": [
    "h[[0,2]]"
   ]
  },
  {
   "cell_type": "markdown",
   "id": "ddb87630-5366-473d-95e6-1feec66dc098",
   "metadata": {},
   "source": [
    "We can use this to reorder categorical axes!"
   ]
  },
  {
   "cell_type": "code",
   "execution_count": null,
   "id": "380e6ef6-49ef-4102-8f5a-9e6b8e53ee35",
   "metadata": {},
   "outputs": [],
   "source": [
    "h[[2, 1, 0]]"
   ]
  },
  {
   "cell_type": "markdown",
   "id": "d76958dd-a71d-4ece-9c6a-a7cf7e1167b9",
   "metadata": {},
   "source": [
    "Of course, the locator protocol is supported as well:"
   ]
  },
  {
   "cell_type": "code",
   "execution_count": null,
   "id": "12f56d3a-1de6-492a-8ad8-276f7048284c",
   "metadata": {},
   "outputs": [],
   "source": [
    "h[[bh.loc(\"bad\"), bh.loc(\"good\")]]"
   ]
  },
  {
   "cell_type": "markdown",
   "id": "77a7d744-991d-44aa-ae89-fb91c452c90d",
   "metadata": {},
   "source": [
    "# UHI: Unified Histotogram Interface\n",
    "\n",
    "A staticly typed protocol for plotting histograms from any source.\n",
    "\n",
    "Also an actual PyPI library, with helper functions, and lots of [centralized documentation](https://uhi.readthedocs.io/en/latest/plotting.html#using-the-protocol).\n",
    "\n",
    "Supported by:\n",
    "\n",
    "* boost-histogram 0.13+\n",
    "* hist\n",
    "* uproot 4\n",
    "* mplhep\n",
    "* histoprint\n",
    "\n",
    "New in the latest version: converter for PyROOT to a PlottableHistogram!"
   ]
  },
  {
   "cell_type": "markdown",
   "id": "79bb9c93-7c68-48d1-abc1-a96fa5d311ce",
   "metadata": {},
   "source": [
    "* `h.kind`: The `bh.Kind` of the histogram (COUNT or MEAN)\n",
    "* `h.values()`: The value (as given by the kind)\n",
    "* `h.variances()`: The variance in the value (None if an unweighed histogram was filled with weights)\n",
    "* `h.counts()`: How many fills the bin received or the effective number of fills if the histogram is weighted\n",
    "* `h.axes`: A Sequence of axes\n",
    "\n",
    "Axes have:\n",
    "\n",
    "* `ax[i]`: A tuple of (lower, upper) bin, or the discrete bin value (integer or sting)\n",
    "* `len(ax)`: The number of bins\n",
    "* Iteration is supported\n",
    "* `ax.traits.circular`: True if circular\n",
    "* `ax.traits.discrete`: True if the bin represents a single value (e.g. Integer or Category axes) instead of an interval (e.g. Regular or Variable axes)\n",
    "\n",
    "Your usage of these this is _statically verified_ by mypy when you claim to have a PlottableProtocol as an input.\n",
    "\n",
    "```python\n",
    "from typing import TYPE_CHECKING, cast\n",
    "from uhi.typing.plottable import PlottableProtocol\n",
    "from mylibrary import MyHistogram\n",
    "\n",
    "if TYPE_CHECKING:\n",
    "    _: PlottableHistogram = cast(MyHistogram, None)\n",
    "```\n",
    "\n",
    "No runtime dependence (unless you want the nice helpers)"
   ]
  },
  {
   "cell_type": "markdown",
   "id": "ae02f7e2-a19c-418d-91d8-d451791b32a9",
   "metadata": {},
   "source": [
    "# Demo: Plotting a boost-histogram with mplhep or histoprint"
   ]
  },
  {
   "cell_type": "code",
   "execution_count": null,
   "id": "1203ae2e-6876-4255-859b-72b5a661e40c",
   "metadata": {},
   "outputs": [],
   "source": [
    "import boost_histogram as bh\n",
    "import mplhep\n",
    "import histoprint\n",
    "import numpy as np\n",
    "from PIL import Image\n",
    "import matplotlib.pyplot as plt\n",
    "\n",
    "rng = np.random.default_rng()"
   ]
  },
  {
   "cell_type": "code",
   "execution_count": null,
   "id": "402088ea-5775-41db-9e8a-52302789c8f6",
   "metadata": {},
   "outputs": [],
   "source": [
    "h = bh.Histogram(bh.axis.Regular(100, -10, 10))\n",
    "h.fill(rng.standard_normal(1_000_000), threads=4)"
   ]
  },
  {
   "cell_type": "markdown",
   "id": "d29052c3-5480-4093-b752-5a12eb854038",
   "metadata": {},
   "source": [
    "We can pass this to mplhep, and it understands it, even though it doesn't depend on or import boost-histogram:"
   ]
  },
  {
   "cell_type": "code",
   "execution_count": null,
   "id": "60d5eb98-f9d3-43d0-acf5-868e286c8cd8",
   "metadata": {},
   "outputs": [],
   "source": [
    "mplhep.histplot(h);"
   ]
  },
  {
   "cell_type": "markdown",
   "id": "4fdaaac5-5557-4e4a-b703-a96dc5927a5c",
   "metadata": {},
   "source": [
    "Or histoprint (though let's tighten the axis to -3:3 and rebin a bit):"
   ]
  },
  {
   "cell_type": "code",
   "execution_count": null,
   "id": "c73ebe97-cbeb-4dcb-a98f-8998e5b30b8d",
   "metadata": {},
   "outputs": [],
   "source": [
    "histoprint.print_hist(h[bh.loc(-3) : bh.loc(3) : bh.rebin(2)])"
   ]
  },
  {
   "cell_type": "markdown",
   "id": "ab93e308-3c93-4053-8066-1876ae12fb6d",
   "metadata": {},
   "source": [
    "## And, a 2D demo:"
   ]
  },
  {
   "cell_type": "code",
   "execution_count": null,
   "id": "4a20114e-0a0d-41c0-8ea6-1590a835680a",
   "metadata": {},
   "outputs": [],
   "source": [
    "sp = Image.open(\"bh-icon.png\")\n",
    "sp"
   ]
  },
  {
   "cell_type": "code",
   "execution_count": null,
   "id": "47ceb350-001a-4474-9e92-a630c1f15096",
   "metadata": {},
   "outputs": [],
   "source": [
    "arr = np.asarray(sp)[:, :, 3]"
   ]
  },
  {
   "cell_type": "code",
   "execution_count": null,
   "id": "cea1451d-8c6a-4495-abee-60199331fd90",
   "metadata": {},
   "outputs": [],
   "source": [
    "x, y, p = rng.random((3, 200_000))"
   ]
  },
  {
   "cell_type": "code",
   "execution_count": null,
   "id": "b3a01e3b-b97b-4f02-865f-0eec0fd3790a",
   "metadata": {},
   "outputs": [],
   "source": [
    "bx = (x * 200).astype(np.int32)\n",
    "by = (y * 200).astype(np.int32)"
   ]
  },
  {
   "cell_type": "code",
   "execution_count": null,
   "id": "185b0fc1-343b-4545-9e88-ec21c981cdfa",
   "metadata": {},
   "outputs": [],
   "source": [
    "# Probibility of hit\n",
    "prob = arr[by, bx] / 255\n",
    "\n",
    "# True if hit\n",
    "hits = prob > p"
   ]
  },
  {
   "cell_type": "code",
   "execution_count": null,
   "id": "2fd15253-8f67-4d19-ba4a-14739607aadf",
   "metadata": {},
   "outputs": [],
   "source": [
    "X = x[hits]\n",
    "Y = 1 - (y[hits] / 200 * 200 + (1 / 200))"
   ]
  },
  {
   "cell_type": "code",
   "execution_count": null,
   "id": "7503b0da-9b11-4eaf-b94a-67a7cc53e477",
   "metadata": {},
   "outputs": [],
   "source": [
    "h = bh.Histogram(\n",
    "    bh.axis.Regular(300, 0, 1, metadata=\"x\"), bh.axis.Regular(300, 0, 1, metadata=\"y\")\n",
    ")\n",
    "\n",
    "h.fill(X, Y)"
   ]
  },
  {
   "cell_type": "code",
   "execution_count": null,
   "id": "a900b140-c9ef-43c3-bf3d-e67066c810ab",
   "metadata": {},
   "outputs": [],
   "source": [
    "def plt_h2(h):\n",
    "    x, y = h.axes.edges\n",
    "    plt.pcolormesh(x.T, y.T, h.view().T)\n",
    "    plt.gca().set_aspect(\"equal\", \"box\")\n",
    "    plt.xlabel(h.axes[0].metadata)\n",
    "    plt.ylabel(h.axes[1].metadata)"
   ]
  },
  {
   "cell_type": "code",
   "execution_count": null,
   "id": "cae69e04-c869-4802-9f7c-e905d9c426d1",
   "metadata": {},
   "outputs": [],
   "source": [
    "plt_h2(h)"
   ]
  },
  {
   "cell_type": "code",
   "execution_count": null,
   "id": "a78c34c3-4538-41ac-9f1c-49636fd6dec2",
   "metadata": {},
   "outputs": [],
   "source": [
    "plt_h2(h[:: bh.rebin(6), :: bh.rebin(3)])"
   ]
  },
  {
   "cell_type": "code",
   "execution_count": null,
   "id": "61f75f49-5aa9-4fcc-bc88-de0eaeb03d70",
   "metadata": {},
   "outputs": [],
   "source": [
    "plt_h2(h[bh.loc(0.2):bh.loc(0.68), bh.loc(0.5):bh.loc(0.8)])"
   ]
  }
 ],
 "metadata": {
  "kernelspec": {
   "display_name": "Python [conda env:histogram-tutorial] *",
   "language": "python",
   "name": "conda-env-histogram-tutorial-py"
  },
  "language_info": {
   "codemirror_mode": {
    "name": "ipython",
    "version": 3
   },
   "file_extension": ".py",
   "mimetype": "text/x-python",
   "name": "python",
   "nbconvert_exporter": "python",
   "pygments_lexer": "ipython3",
   "version": "3.9.6"
  }
 },
 "nbformat": 4,
 "nbformat_minor": 5
}
