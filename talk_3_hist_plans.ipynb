{
 "cells": [
  {
   "cell_type": "markdown",
   "id": "81ea8252-0477-4e94-8d8a-e399b46c53cb",
   "metadata": {},
   "source": [
    "# Part 3: Hist current work and plans"
   ]
  },
  {
   "cell_type": "markdown",
   "id": "c920de80-3c26-4494-b3e3-f1d92f07147b",
   "metadata": {},
   "source": [
    "## TODO: Talk a bit about plans, maybe a slide per planned feature for 3-4 features?"
   ]
  },
  {
   "cell_type": "markdown",
   "id": "09dddc6d-f009-489a-acf3-3a678ed5e833",
   "metadata": {},
   "source": [
    "**Probable features:**\n",
    "\n",
    "- Stacked Histograms\n",
    "- Interpolator\n",
    "- [plotgrid feature](https://coffeateam.github.io/coffea/api/coffea.hist.plotgrid.html#plotgrid) from Coffea\n",
    "- Fill from Awkward Arrays\n",
    "- Minor Features\n",
    "    - Improved Reprs\n",
    "    - Integrationn with fitters"
   ]
  },
  {
   "cell_type": "markdown",
   "id": "c058a725-eb0d-4ea8-9ebf-209344ccffe3",
   "metadata": {},
   "source": [
    "## Stacked Histograms\n",
    "\n",
    "- A function that plots several histograms in a stack\n",
    "- I hold multiple histograms in which the axes are required to match"
   ]
  },
  {
   "cell_type": "markdown",
   "id": "a42b790d-9065-4f11-b7fc-33ea623e5ac5",
   "metadata": {},
   "source": [
    "Here, we plot muptiple Histograms using a stack. We can notice how all of them have the same dimension and axes types."
   ]
  },
  {
   "cell_type": "code",
   "execution_count": 1,
   "id": "9d390a5c-2789-4591-af22-8d1dd3da5237",
   "metadata": {},
   "outputs": [],
   "source": [
    "from hist import Hist, Stack, axis\n",
    "import numpy as np"
   ]
  },
  {
   "cell_type": "code",
   "execution_count": 2,
   "id": "b08344b3-920a-4f30-af53-e474f67fd0ea",
   "metadata": {},
   "outputs": [
    {
     "data": {
      "text/plain": [
       "[[StairsArtists(stairs=<matplotlib.patches.StepPatch object at 0x7fc195d3eb80>, errorbar=<ErrorbarContainer object of 3 artists>, legend_artist=<ErrorbarContainer object of 3 artists>)],\n",
       " [StairsArtists(stairs=<matplotlib.patches.StepPatch object at 0x7fc195d048e0>, errorbar=<ErrorbarContainer object of 3 artists>, legend_artist=<ErrorbarContainer object of 3 artists>)],\n",
       " [StairsArtists(stairs=<matplotlib.patches.StepPatch object at 0x7fc195d27610>, errorbar=<ErrorbarContainer object of 3 artists>, legend_artist=<ErrorbarContainer object of 3 artists>)]]"
      ]
     },
     "execution_count": 2,
     "metadata": {},
     "output_type": "execute_result"
    },
    {
     "data": {
      "image/png": "[encoded data removed]",
      "text/plain": [
       "<Figure size 432x288 with 1 Axes>"
      ]
     },
     "metadata": {
      "needs_background": "light"
     },
     "output_type": "display_data"
    }
   ],
   "source": [
    "h1 = Hist(\n",
    "    axis.Regular(\n",
    "        50, -5, 5, name=\"A\", label=\"a [units]\", underflow=False, overflow=False\n",
    "    )\n",
    ").fill(2 * np.random.normal(size=500) + 3 * np.ones((500,)))\n",
    "\n",
    "h2 = Hist(\n",
    "    axis.Regular(\n",
    "        50, -10, 10, name=\"B\", label=\"b [units]\", underflow=False, overflow=False\n",
    "    )\n",
    ").fill(2 * np.random.normal(size=1000) + 3 * np.ones((1000,)))\n",
    "\n",
    "h3 = Hist(\n",
    "    axis.Regular(\n",
    "        50, -10, 10, name=\"C\", label=\"c [units]\", underflow=False, overflow=False\n",
    "    )\n",
    ").fill(4 * np.random.normal(size=800) - np.ones((800,)))\n",
    "\n",
    "Stack(h1, h2, h3).plot()"
   ]
  },
  {
   "cell_type": "markdown",
   "id": "39855fdf-c875-408d-a2d7-166d6c22fca1",
   "metadata": {},
   "source": [
    "If we introduce a histogram with a different dimensions, it would throw an erorr."
   ]
  },
  {
   "cell_type": "code",
   "execution_count": 3,
   "id": "1147a220-fca5-4615-989e-deac6b1d700a",
   "metadata": {},
   "outputs": [
    {
     "ename": "ValueError",
     "evalue": "Histograms' dimensions don't match",
     "output_type": "error",
     "traceback": [
      "\u001b[0;31m---------------------------------------------------------------------------\u001b[0m",
      "\u001b[0;31mValueError\u001b[0m                                Traceback (most recent call last)",
      "\u001b[0;32m<ipython-input-3-af2fc96afd7a>\u001b[0m in \u001b[0;36m<module>\u001b[0;34m\u001b[0m\n\u001b[1;32m      8\u001b[0m \u001b[0mh4\u001b[0m\u001b[0;34m.\u001b[0m\u001b[0mfill\u001b[0m\u001b[0;34m(\u001b[0m\u001b[0mD\u001b[0m \u001b[0;34m=\u001b[0m \u001b[0mnp\u001b[0m\u001b[0;34m.\u001b[0m\u001b[0mrandom\u001b[0m\u001b[0;34m.\u001b[0m\u001b[0mnormal\u001b[0m\u001b[0;34m(\u001b[0m\u001b[0;36m5\u001b[0m\u001b[0;34m,\u001b[0m \u001b[0;36m1\u001b[0m\u001b[0;34m,\u001b[0m \u001b[0;36m10\u001b[0m\u001b[0;34m)\u001b[0m\u001b[0;34m,\u001b[0m \u001b[0mE\u001b[0m \u001b[0;34m=\u001b[0m \u001b[0mnp\u001b[0m\u001b[0;34m.\u001b[0m\u001b[0mrandom\u001b[0m\u001b[0;34m.\u001b[0m\u001b[0mnormal\u001b[0m\u001b[0;34m(\u001b[0m\u001b[0;36m5\u001b[0m\u001b[0;34m,\u001b[0m \u001b[0;36m1\u001b[0m\u001b[0;34m,\u001b[0m \u001b[0;36m10\u001b[0m\u001b[0;34m)\u001b[0m\u001b[0;34m)\u001b[0m\u001b[0;34m\u001b[0m\u001b[0;34m\u001b[0m\u001b[0m\n\u001b[1;32m      9\u001b[0m \u001b[0;34m\u001b[0m\u001b[0m\n\u001b[0;32m---> 10\u001b[0;31m \u001b[0mStack\u001b[0m\u001b[0;34m(\u001b[0m\u001b[0mh1\u001b[0m\u001b[0;34m,\u001b[0m \u001b[0mh2\u001b[0m\u001b[0;34m,\u001b[0m \u001b[0mh4\u001b[0m\u001b[0;34m)\u001b[0m\u001b[0;34m.\u001b[0m\u001b[0mplot\u001b[0m\u001b[0;34m(\u001b[0m\u001b[0;34m)\u001b[0m\u001b[0;34m\u001b[0m\u001b[0;34m\u001b[0m\u001b[0m\n\u001b[0m",
      "\u001b[0;32m~/Documents/code/IRIS-HEP/fellowship/hist/fork/hist/src/hist/stacks.py\u001b[0m in \u001b[0;36m__init__\u001b[0;34m(self, *args)\u001b[0m\n\u001b[1;32m     21\u001b[0m         \u001b[0;32mfor\u001b[0m \u001b[0ma\u001b[0m \u001b[0;32min\u001b[0m \u001b[0margs\u001b[0m\u001b[0;34m:\u001b[0m\u001b[0;34m\u001b[0m\u001b[0;34m\u001b[0m\u001b[0m\n\u001b[1;32m     22\u001b[0m             \u001b[0;32mif\u001b[0m \u001b[0ma\u001b[0m\u001b[0;34m.\u001b[0m\u001b[0mndim\u001b[0m \u001b[0;34m!=\u001b[0m \u001b[0mndim\u001b[0m\u001b[0;34m:\u001b[0m\u001b[0;34m\u001b[0m\u001b[0;34m\u001b[0m\u001b[0m\n\u001b[0;32m---> 23\u001b[0;31m                 \u001b[0;32mraise\u001b[0m \u001b[0mValueError\u001b[0m\u001b[0;34m(\u001b[0m\u001b[0;34m\"Histograms' dimensions don't match\"\u001b[0m\u001b[0;34m)\u001b[0m\u001b[0;34m\u001b[0m\u001b[0;34m\u001b[0m\u001b[0m\n\u001b[0m\u001b[1;32m     24\u001b[0m             \u001b[0;32mif\u001b[0m \u001b[0maxestypes\u001b[0m \u001b[0;34m!=\u001b[0m \u001b[0mset\u001b[0m\u001b[0;34m(\u001b[0m\u001b[0mmap\u001b[0m\u001b[0;34m(\u001b[0m\u001b[0mtype\u001b[0m\u001b[0;34m,\u001b[0m \u001b[0ma\u001b[0m\u001b[0;34m.\u001b[0m\u001b[0maxes\u001b[0m\u001b[0;34m)\u001b[0m\u001b[0;34m)\u001b[0m\u001b[0;34m:\u001b[0m\u001b[0;34m\u001b[0m\u001b[0;34m\u001b[0m\u001b[0m\n\u001b[1;32m     25\u001b[0m                 \u001b[0;32mraise\u001b[0m \u001b[0mValueError\u001b[0m\u001b[0;34m(\u001b[0m\u001b[0;34m\"Histograms' axes types don't match\"\u001b[0m\u001b[0;34m)\u001b[0m\u001b[0;34m\u001b[0m\u001b[0;34m\u001b[0m\u001b[0m\n",
      "\u001b[0;31mValueError\u001b[0m: Histograms' dimensions don't match"
     ]
    }
   ],
   "source": [
    "h4 = (\n",
    "    Hist.new\n",
    "    .Int(-10, 10, name=\"D\", label=\"d [units]\", underflow=False, overflow=False)\n",
    "    .Reg(10, 0 ,10, name=\"E\", label=\"e [units]\", underflow=False, overflow=False)\n",
    "    .Int64()\n",
    ")\n",
    "\n",
    "h4.fill(D = np.random.normal(5, 1, 10), E = np.random.normal(5, 1, 10))\n",
    "\n",
    "Stack(h1, h2, h4).plot()"
   ]
  },
  {
   "cell_type": "markdown",
   "id": "ba0f45db-d179-4701-9d4d-15013d66ee0c",
   "metadata": {},
   "source": [
    "Similarly, if we introduce a histogram with a different axes types, it would again throw an erorr."
   ]
  },
  {
   "cell_type": "code",
   "execution_count": 4,
   "id": "ecfce00e-71ca-40e2-8c60-ee58232e121f",
   "metadata": {},
   "outputs": [
    {
     "ename": "ValueError",
     "evalue": "Histograms' axes types don't match",
     "output_type": "error",
     "traceback": [
      "\u001b[0;31m---------------------------------------------------------------------------\u001b[0m",
      "\u001b[0;31mValueError\u001b[0m                                Traceback (most recent call last)",
      "\u001b[0;32m<ipython-input-4-9d85091110e2>\u001b[0m in \u001b[0;36m<module>\u001b[0;34m\u001b[0m\n\u001b[1;32m      3\u001b[0m ).fill(2 * np.random.normal(size=1000) + 3 * np.ones((1000,)))\n\u001b[1;32m      4\u001b[0m \u001b[0;34m\u001b[0m\u001b[0m\n\u001b[0;32m----> 5\u001b[0;31m \u001b[0mStack\u001b[0m\u001b[0;34m(\u001b[0m\u001b[0mh1\u001b[0m\u001b[0;34m,\u001b[0m \u001b[0mh2\u001b[0m\u001b[0;34m,\u001b[0m \u001b[0mh5\u001b[0m\u001b[0;34m)\u001b[0m\u001b[0;34m.\u001b[0m\u001b[0mplot\u001b[0m\u001b[0;34m(\u001b[0m\u001b[0;34m)\u001b[0m\u001b[0;34m\u001b[0m\u001b[0;34m\u001b[0m\u001b[0m\n\u001b[0m",
      "\u001b[0;32m~/Documents/code/IRIS-HEP/fellowship/hist/fork/hist/src/hist/stacks.py\u001b[0m in \u001b[0;36m__init__\u001b[0;34m(self, *args)\u001b[0m\n\u001b[1;32m     23\u001b[0m                 \u001b[0;32mraise\u001b[0m \u001b[0mValueError\u001b[0m\u001b[0;34m(\u001b[0m\u001b[0;34m\"Histograms' dimensions don't match\"\u001b[0m\u001b[0;34m)\u001b[0m\u001b[0;34m\u001b[0m\u001b[0;34m\u001b[0m\u001b[0m\n\u001b[1;32m     24\u001b[0m             \u001b[0;32mif\u001b[0m \u001b[0maxestypes\u001b[0m \u001b[0;34m!=\u001b[0m \u001b[0mset\u001b[0m\u001b[0;34m(\u001b[0m\u001b[0mmap\u001b[0m\u001b[0;34m(\u001b[0m\u001b[0mtype\u001b[0m\u001b[0;34m,\u001b[0m \u001b[0ma\u001b[0m\u001b[0;34m.\u001b[0m\u001b[0maxes\u001b[0m\u001b[0;34m)\u001b[0m\u001b[0;34m)\u001b[0m\u001b[0;34m:\u001b[0m\u001b[0;34m\u001b[0m\u001b[0;34m\u001b[0m\u001b[0m\n\u001b[0;32m---> 25\u001b[0;31m                 \u001b[0;32mraise\u001b[0m \u001b[0mValueError\u001b[0m\u001b[0;34m(\u001b[0m\u001b[0;34m\"Histograms' axes types don't match\"\u001b[0m\u001b[0;34m)\u001b[0m\u001b[0;34m\u001b[0m\u001b[0;34m\u001b[0m\u001b[0m\n\u001b[0m\u001b[1;32m     26\u001b[0m         \u001b[0mself\u001b[0m\u001b[0;34m.\u001b[0m\u001b[0m_stack\u001b[0m \u001b[0;34m=\u001b[0m \u001b[0;34m[\u001b[0m\u001b[0;34m*\u001b[0m\u001b[0margs\u001b[0m\u001b[0;34m]\u001b[0m\u001b[0;34m\u001b[0m\u001b[0;34m\u001b[0m\u001b[0m\n\u001b[1;32m     27\u001b[0m         \u001b[0mself\u001b[0m\u001b[0;34m.\u001b[0m\u001b[0m_stack_len\u001b[0m \u001b[0;34m=\u001b[0m \u001b[0mlen\u001b[0m\u001b[0;34m(\u001b[0m\u001b[0margs\u001b[0m\u001b[0;34m)\u001b[0m\u001b[0;34m\u001b[0m\u001b[0;34m\u001b[0m\u001b[0m\n",
      "\u001b[0;31mValueError\u001b[0m: Histograms' axes types don't match"
     ]
    }
   ],
   "source": [
    "h5 = Hist(\n",
    "    axis.Integer(-10, 10, name=\"F\", label=\"f [units]\", underflow=False, overflow=False)\n",
    ").fill(2 * np.random.normal(size=1000) + 3 * np.ones((1000,)))\n",
    "\n",
    "Stack(h1, h2, h5).plot()"
   ]
  },
  {
   "cell_type": "markdown",
   "id": "0f4fe25e-abaf-44b6-b2bc-2b50a92d8c00",
   "metadata": {},
   "source": [
    "## Interpolator\n",
    "\n",
    "- A class that would be able to interpolate histograms\n",
    "- It would take a histogram and would return the interpolated value at that point\n",
    "- Various interfaces for different kinds of interpolation such as `hist.interp.Linear(h)` and `hist.interp.Cubic(h)`\n",
    "- Ability to make your own too\n",
    "- Would help in better estimation and interpretation of data"
   ]
  },
  {
   "cell_type": "markdown",
   "id": "803d1e4b-93c5-44be-908a-077e7bfb2574",
   "metadata": {},
   "source": [
    "## plotgrid feature from Coffea\n",
    "\n",
    "- Would create a grid of plots\n",
    "- Arbitrary rebins can be introducedFill from Awkward Arrays later"
   ]
  },
  {
   "cell_type": "markdown",
   "id": "246a8c75-549e-4ab9-ac7e-2347055dd2cd",
   "metadata": {},
   "source": [
    "## Fill from Awkward Arrays\n",
    "\n",
    "- Awkward Arrays would be taken in `.fill()` intelligently\n",
    "- `ak.flatten`, `ak.fields` and `ak.unzip` can be used to address different situations depending upon the data"
   ]
  },
  {
   "cell_type": "markdown",
   "id": "1a3cef15-d0ac-4908-8a7e-01bd1ed8f5b3",
   "metadata": {},
   "source": [
    "## Minor Features\n",
    "\n",
    "- Improved Reprs\n",
    "    - Reprs with better details and information\n",
    "    - COnifgurable options to give a better output\n",
    "    \n",
    "- Integrationn with fitters\n",
    "    - Implementation to ensure proper interaction with fitters\n",
    "    - Can be done for various fitters such as ZFit, PyHF and GooFit\n"
   ]
  }
 ],
 "metadata": {
  "kernelspec": {
   "display_name": "Python 3.9.5 64-bit ('hist': virtualenvwrapper)",
   "language": "python",
   "name": "python395jvsc74a57bd041098d0804160d5b7135365756022a9b8fe2c90b0ad32ef001667051bf16e688"
  },
  "language_info": {
   "codemirror_mode": {
    "name": "ipython",
    "version": 3
   },
   "file_extension": ".py",
   "mimetype": "text/x-python",
   "name": "python",
   "nbconvert_exporter": "python",
   "pygments_lexer": "ipython3",
   "version": "3.9.5"
  }
 },
 "nbformat": 4,
 "nbformat_minor": 5
}
