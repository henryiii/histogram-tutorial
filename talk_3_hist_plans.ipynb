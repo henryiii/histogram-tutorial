{
 "cells": [
  {
   "cell_type": "markdown",
   "id": "81ea8252-0477-4e94-8d8a-e399b46c53cb",
   "metadata": {},
   "source": [
    "# Part 3: Hist current work and plans"
   ]
  },
  {
   "cell_type": "markdown",
   "id": "c920de80-3c26-4494-b3e3-f1d92f07147b",
   "metadata": {},
   "source": [
    "## TODO: Talk a bit about plans, maybe a slide per planned feature for 3-4 features?"
   ]
  },
  {
   "cell_type": "markdown",
   "id": "09dddc6d-f009-489a-acf3-3a678ed5e833",
   "metadata": {},
   "source": [
    "Probable features:\n",
    "\n",
    "- Stacked Histograms\n",
    "- Interpolator\n",
    "- [plotgrid feature](https://coffeateam.github.io/coffea/api/coffea.hist.plotgrid.html#plotgrid) from Coffea\n",
    "- Fill from Awkward Arrays\n",
    "- Minor Features\n",
    "    - Improved Reprs\n",
    "    - Integrationn with fitters"
   ]
  }
 ],
 "metadata": {
  "kernelspec": {
   "display_name": "Python [conda env:histogram-tutorial] *",
   "language": "python",
   "name": "conda-env-histogram-tutorial-py"
  },
  "language_info": {
   "codemirror_mode": {
    "name": "ipython",
    "version": 3
   },
   "file_extension": ".py",
   "mimetype": "text/x-python",
   "name": "python",
   "nbconvert_exporter": "python",
   "pygments_lexer": "ipython3",
   "version": "3.9.5"
  }
 },
 "nbformat": 4,
 "nbformat_minor": 5
}
