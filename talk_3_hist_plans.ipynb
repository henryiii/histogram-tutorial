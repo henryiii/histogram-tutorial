{
 "cells": [
  {
   "cell_type": "markdown",
   "id": "81ea8252-0477-4e94-8d8a-e399b46c53cb",
   "metadata": {},
   "source": [
    "# Part 3: Hist current work and plans"
   ]
  },
  {
   "cell_type": "markdown",
   "id": "3caaed1c-292c-430d-9add-4920f03bafff",
   "metadata": {},
   "source": [
    "Run the code with us through Binder, altering examples and asking \"what if\" questions along the way :)\n",
    "\n",
    "[![Binder](https://mybinder.org/badge_logo.svg)](https://mybinder.org/v2/gh/henryiii/histogram-tutorial/master?filepath=talk_3_hist_plans.ipynb)"
   ]
  },
  {
   "cell_type": "markdown",
   "id": "b71fd740-68ab-4342-af3e-436fd344e519",
   "metadata": {},
   "source": [
    "## Overview\n",
    "\n",
    "- Interpolator\n",
    "- plotgrid feature from Coffea\n",
    "- Fill from Awkward Arrays\n",
    "- Statistical Functions\n",
    "- Other Features\n",
    "    - Improved Reprs\n",
    "    - Integration with fitters\n",
    "\n",
    "> Python 3.6 support is being removed in accordance with NEP 29."
   ]
  },
  {
   "cell_type": "markdown",
   "id": "afabf54c-b641-4571-bdfd-a888d0c0d3c9",
   "metadata": {},
   "source": [
    "## Interpolator\n",
    "\n",
    "- A class that would be able to interpolate histograms\n",
    "- It would take a histogram and would return the interpolated value at that point\n",
    "- Various interfaces for different kinds of interpolation such as `hist.interp.Linear(h)` and `hist.interp.Cubic(h)`\n",
    "- Ability to make your own too\n",
    "- Would help in better estimation and interpretation of data"
   ]
  },
  {
   "cell_type": "markdown",
   "id": "b8f67d6f-f092-49ee-accb-1e6ef7f1c66f",
   "metadata": {},
   "source": [
    "## plotgrid feature from Coffea\n",
    "\n",
    "- Would create a grid of plots\n",
    "- Arbitrary rebins can be introducedFill from Awkward Arrays later"
   ]
  },
  {
   "cell_type": "markdown",
   "id": "35d6bf65-4784-48ef-8736-68d90f0d1bd2",
   "metadata": {},
   "source": [
    "## Fill from Awkward Arrays\n",
    "\n",
    "- Awkward Arrays would be taken in .fill() intelligently\n",
    "- ak.flatten, ak.fields and ak.unzip can be used to address different situations depending upon the data"
   ]
  },
  {
   "cell_type": "markdown",
   "id": "12a99e1d-e397-40dc-996a-35b9f86498e9",
   "metadata": {},
   "source": [
    "## Statistical Functions\n",
    "\n",
    "- Implementation of something similar to TEfficiency from ROOT\n",
    "- Used to handle efficiency histograms\n",
    "- Would compute the calculation of efficiencies and their uncertainties"
   ]
  },
  {
   "cell_type": "markdown",
   "id": "18e646e7-03dc-4b23-aaef-22521186ba9b",
   "metadata": {},
   "source": [
    "## Other Features\n",
    "\n",
    "- Improved Reprs\n",
    "    - Reprs with better details and information\n",
    "    - Conifgurable options to give a better output\n",
    "\n",
    "- Integration with fitters\n",
    "    - Implementation to ensure proper interaction with fitters\n",
    "    - Can be done for various fitters such as ZFit, PyHF and GooFit"
   ]
  }
 ],
 "metadata": {
  "kernelspec": {
   "display_name": "hist",
   "language": "python",
   "name": "hist"
  },
  "language_info": {
   "codemirror_mode": {
    "name": "ipython",
    "version": 3
   },
   "file_extension": ".py",
   "mimetype": "text/x-python",
   "name": "python",
   "nbconvert_exporter": "python",
   "pygments_lexer": "ipython3",
   "version": "3.9.5"
  }
 },
 "nbformat": 4,
 "nbformat_minor": 5
}
