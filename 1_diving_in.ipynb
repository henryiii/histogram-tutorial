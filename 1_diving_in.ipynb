{
 "cells": [
  {
   "cell_type": "markdown",
   "metadata": {},
   "source": [
    "# Diving more into Hist"
   ]
  },
  {
   "cell_type": "code",
   "execution_count": null,
   "metadata": {},
   "outputs": [],
   "source": [
    "# Make the necessary imports\n",
    "from hist import Hist, axis\n",
    "import hist\n",
    "import numpy as np\n",
    "import matplotlib.pyplot as plt\n",
    "import boost_histogram as bh"
   ]
  },
  {
   "cell_type": "markdown",
   "metadata": {},
   "source": [
    "hist supports the whole workflow for a histogram's lifecycle, including some plotting tools and shortcuts which are pretty useful for HEP studies. Here, you can see how to serialize/deserialize (will be achieved), construct, use, and visualize histograms.\n",
    "\n",
    "![histogram's lifecycle](https://tva1.sinaimg.cn/large/007S8ZIlgy1ggrgi6xk7fj30y108qjsf.jpg)"
   ]
  },
  {
   "cell_type": "markdown",
   "metadata": {},
   "source": [
    "## ND Histograms - More dimensions"
   ]
  },
  {
   "cell_type": "markdown",
   "metadata": {},
   "source": [
    "The same API works for multiple dimensions."
   ]
  },
  {
   "cell_type": "code",
   "execution_count": null,
   "metadata": {},
   "outputs": [],
   "source": [
    "## define and fill the histogram\n",
    "h = (\n",
    "    Hist.new.Reg(50, -5, 5, name=\"S\", label=\"s [units]\", flow=False)\n",
    "    .Reg(50, -5, 5, name=\"W\", label=\"w [units]\", flow=False)\n",
    "    .Double()\n",
    ")\n",
    "\n",
    "s_data = np.random.normal(size=50_000)\n",
    "w_data = np.random.normal(size=50_000)\n",
    "\n",
    "# fill\n",
    "h.fill(W=w_data, S=s_data)"
   ]
  },
  {
   "cell_type": "markdown",
   "metadata": {},
   "source": [
    "We can access and perform various functions on the bins, let's get our hands on them. Can you make a guess?"
   ]
  },
  {
   "cell_type": "markdown",
   "metadata": {},
   "source": [
    "<details><summary>Click to show answer</summary>\n",
    "\n",
    "```python\n",
    "# access by bin number\n",
    "h[25, 25]\n",
    "\n",
    "# access by data coordinate\n",
    "# identical to: h[hist.loc(0), hist.loc(0)]\n",
    "h[0j, 0j]\n",
    "\n",
    "# identical to: h[hist.loc(-1) + 5, hist.loc(-4) + 20]\n",
    "h[-1j + 5, -4j + 20]\n",
    "\n",
    "# identical to: h.project(\"S\")[20 : 30 : hist.rebin(2)]\n",
    "h.project(\"S\")[20:30:2j]\n",
    "```\n",
    "\n",
    "</details>"
   ]
  },
  {
   "cell_type": "code",
   "execution_count": null,
   "metadata": {},
   "outputs": [],
   "source": [
    "# enter the answer here"
   ]
  },
  {
   "cell_type": "markdown",
   "metadata": {},
   "source": [
    "Dictionary is allowed when accessing bins. If you have axes all with names in your Hist, you can also access them according to the axes' names."
   ]
  },
  {
   "cell_type": "markdown",
   "metadata": {},
   "source": [
    "Let's try a 3D histogram"
   ]
  },
  {
   "cell_type": "code",
   "execution_count": null,
   "metadata": {},
   "outputs": [],
   "source": [
    "data3d = [np.random.normal(size=1_000_000) for _ in range(3)]\n",
    "\n",
    "hist3d = hist.Hist(\n",
    "    hist.axis.Regular(150, -5, 5),\n",
    "    hist.axis.Regular(100, -5, 5),\n",
    "    hist.axis.Regular(100, -5, 5)\n",
    ")\n",
    "\n",
    "hist3d.fill(*data3d)"
   ]
  },
  {
   "cell_type": "markdown",
   "metadata": {},
   "source": [
    "Let's project to the first two axes:"
   ]
  },
  {
   "cell_type": "code",
   "execution_count": null,
   "metadata": {},
   "outputs": [],
   "source": [
    "hist3d.project(0,1).plot();"
   ]
  },
  {
   "cell_type": "markdown",
   "metadata": {},
   "source": [
    "Maybe a 5D histogram now?"
   ]
  },
  {
   "cell_type": "code",
   "execution_count": null,
   "metadata": {},
   "outputs": [],
   "source": [
    "s = Hist(\n",
    "    hist.axis.Regular(50, -5, 5, name=\"Norm\", label=\"normal distribution\"),\n",
    "    hist.axis.Regular(50, -5, 5, name=\"Unif\", label=\"uniform distribution\"),\n",
    "    hist.axis.StrCategory([\"hi\", \"hello\"], name=\"Greet\"),\n",
    "    hist.axis.Boolean(name=\"Yes\"),\n",
    "    hist.axis.Integer(0, 1000, name=\"Int\"),\n",
    ")"
   ]
  },
  {
   "cell_type": "code",
   "execution_count": null,
   "metadata": {},
   "outputs": [],
   "source": [
    "s.fill(\n",
    "    Norm=np.random.normal(size=1000),\n",
    "    Unif=np.random.uniform(size=1000),\n",
    "    Greet=[\"hi\"] * 800 + [\"hello\"] * 200,\n",
    "    Yes=[True] * 600 + [False] * 400,\n",
    "    Int=np.ones(1000),\n",
    ")"
   ]
  },
  {
   "cell_type": "markdown",
   "metadata": {},
   "source": [
    "And we can ofcourse perform similar operations. :)"
   ]
  },
  {
   "cell_type": "code",
   "execution_count": null,
   "metadata": {},
   "outputs": [],
   "source": [
    "s[0j, -0j + 2, \"hi\", True, 1]"
   ]
  },
  {
   "cell_type": "code",
   "execution_count": null,
   "metadata": {},
   "outputs": [],
   "source": [
    "s[{0: 0j, 3: True, 4: 1, 1: -0j + 2, 2: \"hi\"}] = 10\n",
    "\n",
    "s[{\"Greet\": \"hi\", \"Unif\": -0j + 2, \"Yes\": True, \"Int\": 1, \"Norm\": 0j}]"
   ]
  },
  {
   "cell_type": "markdown",
   "metadata": {},
   "source": [
    "### Get Density"
   ]
  },
  {
   "cell_type": "code",
   "execution_count": null,
   "metadata": {},
   "outputs": [],
   "source": [
    "h[25:30, 25:30].density()"
   ]
  },
  {
   "cell_type": "markdown",
   "metadata": {},
   "source": [
    "## 2.2: UHI+\n",
    "\n",
    "Uniform Histogram Indexing (UHI+) extends boost-histogram's UHI and provides HEP users with handy accessing shortcuts. Let's explore the boost-histogram UHI syntax. We will reuse the previous 2D histogram from part 3:"
   ]
  },
  {
   "cell_type": "code",
   "execution_count": null,
   "metadata": {},
   "outputs": [],
   "source": [
    "reg_axis = axis.Regular(10, -3, 3, overflow=False, underflow=False, name=\"X\", label=\"x [unit]\")\n",
    "var_axis = axis.Variable(range(-5, 6), name=\"Y\", label=\"y [unit]\")\n",
    "int_axis = axis.Integer(-3, 3, overflow=True, underflow=True, name=\"Z\", label=\"z [units]\")\n",
    "h = Hist(reg_axis, var_axis, int_axis)\n",
    "h.fill(X=np.random.randn(100), Y=np.random.randn(100), Z=np.random.randn(100))\n",
    "h_2d = h.project(\"X\", \"Y\")\n",
    "\n",
    "# boost-histogram UHI\n",
    "print(h_2d[5, 5])\n",
    "print(h_2d[{0: 5, 1: 5}])\n",
    "\n",
    "# hist UHI+\n",
    "print(h_2d[{\"X\": 5, \"Y\": 5}])\n",
    "print(h_2d[{\"X\": bh.loc(0), \"Y\": bh.loc(0)}])\n",
    "print(h_2d[.8j, .5j])"
   ]
  }
 ],
 "metadata": {
  "kernelspec": {
   "display_name": "hist",
   "language": "python",
   "name": "hist"
  },
  "language_info": {
   "codemirror_mode": {
    "name": "ipython",
    "version": 3
   },
   "file_extension": ".py",
   "mimetype": "text/x-python",
   "name": "python",
   "nbconvert_exporter": "python",
   "pygments_lexer": "ipython3",
   "version": "3.9.5"
  }
 },
 "nbformat": 4,
 "nbformat_minor": 4
}
