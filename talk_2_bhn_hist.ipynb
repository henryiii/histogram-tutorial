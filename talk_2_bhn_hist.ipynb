{
 "cells": [
  {
   "cell_type": "markdown",
   "id": "173c6e36-4d2a-4a60-952c-e2aa72e39bfc",
   "metadata": {},
   "source": [
    "# Part 2: boost-histogram plans and Hist"
   ]
  },
  {
   "cell_type": "markdown",
   "id": "50a4e9da-deab-44ad-ab37-16e65a43cca7",
   "metadata": {},
   "source": [
    "Run the code with us through Binder, altering examples and asking \"what if\" questions along the way :)\n",
    "\n",
    "[![Binder](https://mybinder.org/badge_logo.svg)](https://mybinder.org/v2/gh/henryiii/histogram-tutorial/master?filepath=talk_2_bhn_hist.ipynb)"
   ]
  },
  {
   "cell_type": "markdown",
   "id": "73cc6d52-629c-4149-a420-87a762986db1",
   "metadata": {},
   "source": [
    "## Boost-histogram numbafication plans"
   ]
  },
  {
   "cell_type": "markdown",
   "id": "f1822750-aabd-43b8-b8dc-95597ca0591e",
   "metadata": {},
   "source": [
    "An \"event loop\" is a programming construct that waits for and dispatches events or messages in a program.  To speed up data analysis for HEP, Scikit-HEP ecosystem is long for a fully Numba-enabled event loop. The awkward and vector portions are mostly developed, leaving the histogramming step as the one element missing from a fully Numba enabled event loop. We plan to enable BH fill from inside the Numba loop without stepping through Python. Currently, we can achieve ([here](https://vector.readthedocs.io/en/latest/usage/structure.html)):"
   ]
  },
  {
   "cell_type": "markdown",
   "id": "c01e5090-8aed-4f5b-a30b-6544fadb3e79",
   "metadata": {},
   "source": [
    "```python\n",
    "@nb.njit\n",
    "def compute_masses(awkarray):\n",
    "    out = np.empty(len(awkarray), np.float64)\n",
    "    for i, event in enumerate(awkarray):\n",
    "        total = vector.obj(px=0.0, py=0.0, pz=0.0, E=0.0)\n",
    "        for vec in event:\n",
    "            total = total + vec\n",
    "        out[i] = total.mass\n",
    "    return out\n",
    "\n",
    "out = compute_masses(awkarray)\n",
    "hist.fill(out)\n",
    "```"
   ]
  },
  {
   "cell_type": "markdown",
   "id": "b90c25a5-5880-4275-85d8-7fd8abe785a4",
   "metadata": {},
   "source": [
    "Our goal to make this work:"
   ]
  },
  {
   "cell_type": "markdown",
   "id": "676f911a-7b4d-452f-bed4-37c9c28e1b32",
   "metadata": {},
   "source": [
    "```python\n",
    "@nb.njit\n",
    "def compute_masses(hist, awkarray):\n",
    "    for event in array:\n",
    "        total = vector.obj(px=0.0, py=0.0, pz=0.0, E=0.0)\n",
    "        for vec in event:\n",
    "            total = total + vec\n",
    "        hist.fill(total.mass)\n",
    "\n",
    "compute_masses(hist, awkarray)\n",
    "```"
   ]
  },
  {
   "cell_type": "markdown",
   "id": "aa78fad8-6f40-4ef5-b195-1c91c67e177e",
   "metadata": {},
   "source": [
    "## Hist\n",
    "\n",
    "Hist extends boost-histogram, including features like:\n",
    "\n",
    "* Named axes and labels\n",
    "    * You can even *force* the use of names everywhere with `NamedHist`\n",
    "* Fancy Jupyter reprs\n",
    "* UHI+: faster, easier to type indexing additions\n",
    "* QuickConstruct: a system to reduce the typing when making histograms\n",
    "* Stack of Histograms, including from categorical axes\n",
    "* Pie plots\n",
    "* Loading tables from Pandas\n",
    "* Compute profiles from existing histograms\n",
    "* Sorting categorical axes"
   ]
  },
  {
   "cell_type": "markdown",
   "id": "d6a84c42-03ca-4fa4-a47c-3a8e31a12488",
   "metadata": {},
   "source": [
    "### Name shortcuts in Hist\n",
    "\n",
    "Hist allows names for Boost-histograms axes, the names are unique identifiers in a histogram which are used to support some useful features such as `.fill()` and `.project()`. Specially, hist designs `NamedHist` to provide name shortcuts for the histograms that contain named axes."
   ]
  },
  {
   "cell_type": "code",
   "execution_count": null,
   "id": "125f5e5f-6517-458e-83ff-5476bf623cb9",
   "metadata": {},
   "outputs": [],
   "source": [
    "import numpy as np\n",
    "import boost_histogram as bh\n",
    "import matplotlib.pyplot as plt\n",
    "import pandas as pd\n",
    "\n",
    "\n",
    "from hist import axis, Hist, Stack\n",
    "\n",
    "# named axes\n",
    "reg_axis = axis.Regular(10, -3, 3, overflow=False, underflow=False, name=\"X\", label=\"x [unit]\")\n",
    "var_axis = axis.Variable(range(-5, 6), name=\"Y\", label=\"y [unit]\")\n",
    "int_axis = axis.Integer(-3, 3, overflow=True, underflow=True, name=\"Z\", label=\"z [units]\")"
   ]
  },
  {
   "cell_type": "code",
   "execution_count": null,
   "id": "d7dd631d-5c4a-41a6-854f-c4a96cfe450a",
   "metadata": {},
   "outputs": [],
   "source": [
    "# histograms with named axes\n",
    "h = Hist(reg_axis, var_axis, int_axis)\n",
    "\n",
    "print(\"Name of axis 0: \\t\" + h.axes[0].name + \";\")\n",
    "print(\"Label of axis 1: \\t\" + h.axes[1].label + \".\")"
   ]
  },
  {
   "cell_type": "code",
   "execution_count": null,
   "id": "a872089f-897d-494c-9fee-b618765bb3e2",
   "metadata": {},
   "outputs": [],
   "source": [
    "# Normal access\n",
    "h.fill(np.random.randn(100), np.random.randn(100), np.random.randn(100))\n",
    "h_2d = h.project(0, 1)\n",
    "\n",
    "# Named access (safer and more readable)\n",
    "h.fill(X=np.random.randn(100), Y=np.random.randn(100), Z=np.random.randn(100))\n",
    "h_2d = h.project(\"X\", \"Y\")"
   ]
  },
  {
   "cell_type": "markdown",
   "id": "705c3a94-d291-4ddd-9877-13ef6f976845",
   "metadata": {},
   "source": [
    "### Hist Repr\n",
    "\n",
    "Hist has custom reprs when displaying in a Jupyter and supports dark mode."
   ]
  },
  {
   "cell_type": "code",
   "execution_count": null,
   "id": "020d0983-af9b-465e-b685-298444c848ab",
   "metadata": {},
   "outputs": [],
   "source": [
    "h_2d.project(\"X\")"
   ]
  },
  {
   "cell_type": "code",
   "execution_count": null,
   "id": "224dd75f-7d5d-4157-8a4b-2e519b065969",
   "metadata": {},
   "outputs": [],
   "source": [
    "h_2d"
   ]
  },
  {
   "cell_type": "code",
   "execution_count": null,
   "id": "31945286-189b-41df-a3cd-09c87fc4f79f",
   "metadata": {},
   "outputs": [],
   "source": [
    "h"
   ]
  },
  {
   "cell_type": "markdown",
   "id": "f5809b61-0b65-4001-a4f3-a29ac236a818",
   "metadata": {},
   "source": [
    "Besides the fancy repr, the users can explictly see the data by `.plot()` (using mplhep in the backend) and `.show()` (using histoprint)."
   ]
  },
  {
   "cell_type": "markdown",
   "id": "1f7b5cf8-cf13-45f8-b04d-3465d656c259",
   "metadata": {},
   "source": [
    "### UHI+\n",
    "\n",
    "Uniform Histogram Indexing (UHI) is one of the most important features of hist, which provides HEP users with handy accessing shortcuts. For example, to access the centroid element of a 2d-histogram, we can:"
   ]
  },
  {
   "cell_type": "code",
   "execution_count": null,
   "id": "34d8e03f-36d6-4b20-b030-5f6a13add97d",
   "metadata": {},
   "outputs": [],
   "source": [
    "# boost-histogram UHI\n",
    "print(h_2d[5, 5])\n",
    "print(h_2d[{0: 5, 1: 5}])\n",
    "\n",
    "# hist UHI+\n",
    "print(h_2d[{\"X\": 5, \"Y\": 5}])\n",
    "print(h_2d[{\"X\": bh.loc(0), \"Y\": bh.loc(0)}])\n",
    "print(h_2d[.8j, .5j])"
   ]
  },
  {
   "cell_type": "markdown",
   "id": "dbb320b7-3865-44f1-a93f-39e1c89a9305",
   "metadata": {},
   "source": [
    "UHI also supports rebin for histograms with the same `j` shortcut."
   ]
  },
  {
   "cell_type": "code",
   "execution_count": null,
   "id": "6d5fe552-1ca5-4bd4-b394-ba74192750d5",
   "metadata": {},
   "outputs": [],
   "source": [
    "h_2d[:, -.5j]"
   ]
  },
  {
   "cell_type": "code",
   "execution_count": null,
   "id": "10f20344-6e0d-4386-a534-d8515b86f3cc",
   "metadata": {},
   "outputs": [],
   "source": [
    "h_2d[0:10:2j, -.5j]"
   ]
  },
  {
   "cell_type": "markdown",
   "id": "681964f1-f9bf-47e2-a5a6-da2224ef74bd",
   "metadata": {},
   "source": [
    "### Quick Construct Shortcuts"
   ]
  },
  {
   "cell_type": "markdown",
   "id": "a4dafa31-a515-4781-a261-a0ac75d998ec",
   "metadata": {},
   "source": [
    "Besides the standard construction of boost-histogram, hist provides quick construct for HEP users."
   ]
  },
  {
   "cell_type": "code",
   "execution_count": null,
   "id": "c1c1116c-b104-42d0-acb0-bd885089fc14",
   "metadata": {},
   "outputs": [],
   "source": [
    "unnamed_hist = (\n",
    "    Hist.new.Reg(50, -5, 5, flow=False)\n",
    "    .Var(range(-25, 30))\n",
    "    .Int(-3, 3, flow=True)\n",
    "    .Double()\n",
    ")\n",
    "\n",
    "named_hist = (\n",
    "    Hist.new.Reg(50, -5, 5, flow=False, name=\"X\", label=\"x [unit]\")\n",
    "    .Var(range(-25, 30), name=\"Y\", label=\"y [unit]\")\n",
    "    .Int(-3, 3, flow=True, name=\"Z\", label=\"z [units]\")\n",
    "    .Double()\n",
    ")"
   ]
  },
  {
   "cell_type": "code",
   "execution_count": null,
   "id": "e2346484-ad1b-46e3-a836-949fb95b4daf",
   "metadata": {},
   "outputs": [],
   "source": [
    "unnamed_hist.fill(np.random.randn(100), 5*np.random.randn(100), np.random.randn(100)).project(0, 1)"
   ]
  },
  {
   "cell_type": "code",
   "execution_count": null,
   "id": "0ccb7466-dd20-4fec-9b2d-eea3e8e4a06e",
   "metadata": {},
   "outputs": [],
   "source": [
    "named_hist.fill(X=np.random.randn(100), Y=5*np.random.randn(100), Z=np.random.randn(100)).project(\"X\", \"Y\")"
   ]
  },
  {
   "cell_type": "markdown",
   "id": "8d1730ba-ab9e-45b0-96ef-d7c46eb2cda2",
   "metadata": {},
   "source": [
    "### Hist Stack"
   ]
  },
  {
   "cell_type": "code",
   "execution_count": null,
   "id": "71d75cde-1a63-4327-9d8a-871f2faf8cf1",
   "metadata": {},
   "outputs": [],
   "source": [
    "named_hist_copy = (\n",
    "    Hist.new.Reg(50, -5, 5, flow=False, name=\"X\", label=\"x [unit]\")\n",
    "    .Var(range(-25, 30), name=\"Y\", label=\"y [unit]\")\n",
    "    .Int(-3, 3, flow=True, name=\"Z\", label=\"z [units]\")\n",
    "    .Double()\n",
    ").fill(X=.5*np.random.randn(100)+3*np.ones(100), Y=5*np.random.randn(100), Z=np.random.randn(100))\n",
    "\n",
    "s = Stack(named_hist.project(0), named_hist_copy.project(\"X\"))\n",
    "s.plot()\n",
    "plt.show()"
   ]
  },
  {
   "cell_type": "code",
   "execution_count": null,
   "id": "f390c31a-8860-471e-9a7e-cb02f137fb67",
   "metadata": {},
   "outputs": [],
   "source": [
    "s.plot(stack=True, histtype='fill')\n",
    "plt.show()"
   ]
  },
  {
   "cell_type": "code",
   "execution_count": null,
   "id": "a8f0ad0c-a493-4b54-a90b-53877a2fc4d7",
   "metadata": {},
   "outputs": [],
   "source": [
    "# Fill with data tagged with quality=\"good\" or \"bad\"\n",
    "h = Hist.new.Reg(50,-5, 5, name=\"x\").StrCat([\"good\", \"bad\"], name=\"quality\").Double().fill(\n",
    "    x=np.random.randn(100), quality=[\"good\", \"good\", \"good\", \"good\", \"bad\"]*20\n",
    ")\n",
    "\n",
    "# Turn an existin axis into a stack\n",
    "s = h.stack(\"quality\")\n",
    "\n",
    "s.plot(color=[\"indianred\", \"steelblue\"])\n",
    "plt.legend()\n",
    "plt.show()"
   ]
  },
  {
   "cell_type": "code",
   "execution_count": null,
   "id": "874993fc-f0d1-4698-ba0c-29cef1a98a0c",
   "metadata": {},
   "outputs": [],
   "source": [
    "s.plot(stack=True, histtype='fill')\n",
    "plt.legend()\n",
    "plt.show()"
   ]
  },
  {
   "cell_type": "code",
   "execution_count": null,
   "id": "b5c604a7-8d66-4479-a829-2f582b68a45f",
   "metadata": {},
   "outputs": [],
   "source": [
    "s[::-1].plot(stack=True, histtype='fill')\n",
    "plt.legend()\n",
    "plt.show()"
   ]
  },
  {
   "cell_type": "code",
   "execution_count": null,
   "id": "106cb389-ef4b-414c-ae65-21169651d143",
   "metadata": {},
   "outputs": [],
   "source": [
    "print(s[0].name)\n",
    "s[0]"
   ]
  },
  {
   "cell_type": "code",
   "execution_count": null,
   "id": "9c2b3d56-e7bf-4a3e-8588-a765b712ecc4",
   "metadata": {},
   "outputs": [],
   "source": [
    "print(s[1].name)\n",
    "s[1]"
   ]
  },
  {
   "cell_type": "markdown",
   "id": "d94c6e25-6d01-471a-811f-58ab3f966dda",
   "metadata": {},
   "source": [
    "### Pandas support in Hist\n",
    "\n",
    "You can read dicts or Pandas dataframes directly into Hist. The following dataset is of PyPI downloads."
   ]
  },
  {
   "cell_type": "code",
   "execution_count": null,
   "id": "6231b2de-63df-457e-b0be-d16692a052dd",
   "metadata": {},
   "outputs": [],
   "source": [
    "data = pd.read_csv(\n",
    "    \"results-20210227-133657 - results-20210227-133657.csv\",\n",
    "    usecols=(\"cpu\", \"num_downloads\", \"python_version\", \"pip_version\", \"glibc_version\", \"policy\"),\n",
    "    converters={\n",
    "        \"python_version\": str,\n",
    "        \"pip_version\": lambda x: int(x.split(\".\")[0]),\n",
    "        \"glibc_version\": lambda x: int(float(x.split(\"-\")[0]) % 1 * 100),\n",
    "    },\n",
    ")\n",
    "\n",
    "pd_hist_4d = Hist.from_columns(\n",
    "    data,\n",
    "    (\"cpu\", \"python_version\", \"pip_version\", \"policy\"),\n",
    "    weight=\"num_downloads\",\n",
    ")"
   ]
  },
  {
   "cell_type": "markdown",
   "id": "5987b5a1-ef5e-477f-952d-78a36965406c",
   "metadata": {},
   "source": [
    "Now we use Hist's `plot_pie`:"
   ]
  },
  {
   "cell_type": "code",
   "execution_count": null,
   "id": "4c00afa7-13b7-4d40-bbe3-7991f7eb9a31",
   "metadata": {},
   "outputs": [],
   "source": [
    "fig, axs = plt.subplots(2, 3, figsize=(9, 6))\n",
    "for i, py in enumerate([\"2.6\", \"2.7\", \"3.6\", \"3.7\", \"3.8\", \"3.9\"]):\n",
    "    ax = axs.flatten()[i]\n",
    "    ph = pd_hist_4d.project(\"python_version\", \"pip_version\")[py, :]\n",
    "    ph.plot_pie(ax=ax, normalize=True, autopct='%1.0f%%', pctdistance=.8)\n",
    "    ax.set_title(f\"Python {py} {int(ph.sum()) // 1000000:,} M\")\n",
    "\n",
    "plt.tight_layout()\n",
    "plt.show()"
   ]
  },
  {
   "cell_type": "markdown",
   "id": "db126b18-5ca7-4d77-b0de-667fd197f6a3",
   "metadata": {},
   "source": [
    "### Other Shortcuts"
   ]
  },
  {
   "cell_type": "markdown",
   "id": "86b3e485-4ab5-4a8d-af4e-a1dfc4a7dfbc",
   "metadata": {},
   "source": [
    "We can get the density of an existing histogram via `.density()`."
   ]
  },
  {
   "cell_type": "code",
   "execution_count": null,
   "id": "90f07cce-4652-41f4-a471-440c93f0074b",
   "metadata": {},
   "outputs": [],
   "source": [
    "named_hist = (\n",
    "    Hist.new.Reg(50, -3, 3, flow=False, name=\"X\", label=\"x [unit]\")\n",
    "    .Var(range(-25, 30), name=\"Y\", label=\"y [unit]\")\n",
    "    .Int(-3, 3, flow=True, name=\"Z\", label=\"z [units]\")\n",
    "    .Double()\n",
    ")\n",
    "named_hist.fill(X=np.random.randn(100), Y=5*np.random.randn(100), Z=np.random.randn(100)).project(\"X\", \"Y\")\n",
    "named_hist.project(\"X\")[25:30].density()"
   ]
  },
  {
   "cell_type": "code",
   "execution_count": null,
   "id": "184d7bf0-2084-490b-8ef4-4827a5e63efc",
   "metadata": {},
   "outputs": [],
   "source": [
    "xy = np.array([[-2, 1.5], [-2, 1.5], [0.0, -2.0], [0.0, -2.0], [0.0, 0.0], [0.0, 1.0], [1.0, 0.0]])\n",
    "h = Hist(axis.Regular(5, -5, 5, name=\"x\"), axis.Regular(5, -5, 5, name=\"y\")).fill(*xy.T)\n",
    "h_profile = h.profile(\"y\")\n",
    "h.values()"
   ]
  },
  {
   "cell_type": "code",
   "execution_count": null,
   "id": "63cb3cbb-4f3e-41e0-a07b-7739b69cd54d",
   "metadata": {},
   "outputs": [],
   "source": [
    "h_profile.values()"
   ]
  }
 ],
 "metadata": {
  "kernelspec": {
   "display_name": "Python [conda env:histogram-tutorial] *",
   "language": "python",
   "name": "conda-env-histogram-tutorial-py"
  },
  "language_info": {
   "codemirror_mode": {
    "name": "ipython",
    "version": 3
   },
   "file_extension": ".py",
   "mimetype": "text/x-python",
   "name": "python",
   "nbconvert_exporter": "python",
   "pygments_lexer": "ipython3",
   "version": "3.9.6"
  }
 },
 "nbformat": 4,
 "nbformat_minor": 5
}
