{
 "cells": [
  {
   "cell_type": "code",
   "execution_count": null,
   "metadata": {},
   "outputs": [],
   "source": [
    "import boost_histogram as bh\n",
    "import numpy as np\n",
    "import matplotlib.pyplot as plt\n",
    "import hist\n",
    "from hist import Hist"
   ]
  },
  {
   "cell_type": "code",
   "execution_count": null,
   "metadata": {},
   "outputs": [],
   "source": [
    "def make_2D_data(*, mean=(0,0), widths=(1,1), size=1_000_000):\n",
    "    cov = np.asarray(widths) * np.eye(2)\n",
    "    return np.random.multivariate_normal(mean, cov, size=size).T\n",
    "\n",
    "def plothist2d(h):\n",
    "    X, Y = h.axes.edges\n",
    "\n",
    "    return plt.pcolormesh(X.T, Y.T, h.view().T)\n",
    "\n",
    "plothist = lambda h: plt.bar(h.axes[0].centers, h, width=h.axes[0].widths)"
   ]
  },
  {
   "cell_type": "markdown",
   "metadata": {},
   "source": [
    "# 4: Special histogram axes\n",
    "\n",
    "## 4.1: Transforms\n",
    "\n",
    "There are more axes types, and they all provide the same API in histograms, so they all just work without changes:"
   ]
  },
  {
   "cell_type": "code",
   "execution_count": null,
   "metadata": {},
   "outputs": [],
   "source": [
    "hist8 = bh.Histogram(\n",
    "    bh.axis.Regular(30, 1,10, transform=bh.axis.transform.log),\n",
    "    bh.axis.Regular(30, 1,10, transform=bh.axis.transform.sqrt)\n",
    ")"
   ]
  },
  {
   "cell_type": "code",
   "execution_count": null,
   "metadata": {},
   "outputs": [],
   "source": [
    "hist8.reset()\n",
    "hist8.fill(*make_2D_data(mean=(5,5), widths=(5,5)))"
   ]
  },
  {
   "cell_type": "code",
   "execution_count": null,
   "metadata": {},
   "outputs": [],
   "source": [
    "plothist2d(hist8);"
   ]
  },
  {
   "cell_type": "markdown",
   "metadata": {},
   "source": [
    "## 4.2: And, circular, too!"
   ]
  },
  {
   "cell_type": "code",
   "execution_count": null,
   "metadata": {},
   "outputs": [],
   "source": [
    "hist9 = bh.Histogram(bh.axis.Regular(30, 0, 2*np.pi, circular=True))\n",
    "hist9.fill(np.random.uniform(0, np.pi*4, size=300))"
   ]
  },
  {
   "cell_type": "markdown",
   "metadata": {},
   "source": [
    "Now, the really complicated part, making a circular histogram:\n"
   ]
  },
  {
   "cell_type": "code",
   "execution_count": null,
   "metadata": {},
   "outputs": [],
   "source": [
    "ax = plt.subplot(111, polar=True)\n",
    "plothist(hist9);"
   ]
  },
  {
   "cell_type": "markdown",
   "metadata": {},
   "source": [
    "Not bad, we just reused our plotting code for all 1D histograms!"
   ]
  },
  {
   "cell_type": "markdown",
   "metadata": {},
   "source": [
    "## 4.3: Axis Types\n",
    "\n",
    "Based on boost-histogram’s Axis, hist support six types of axis, `Regular`, `Boolean`, `Variable`, `Integer`, `IntCategory` and `StrCategory` with additional names and labels.\n",
    "\n",
    "Names are pretty useful for some histogramming shortcuts, thus greatly facilitate HEP’s studies. Note that the name is the identifier for an axis in a histogram and must be unique."
   ]
  },
  {
   "cell_type": "code",
   "execution_count": null,
   "metadata": {},
   "outputs": [],
   "source": [
    "axis0 = hist.axis.Regular(10, -5, 5, overflow=False, underflow=False, name=\"A\")\n",
    "axis1 = hist.axis.Boolean(name=\"B\")\n",
    "axis2 = hist.axis.Variable(range(10), name=\"C\")\n",
    "axis3 = hist.axis.Integer(-5, 5, overflow=False, underflow=False, name=\"D\")\n",
    "axis4 = hist.axis.IntCategory(range(10), name=\"E\")\n",
    "axis5 = hist.axis.StrCategory([\"T\", \"F\"], name=\"F\")"
   ]
  },
  {
   "cell_type": "markdown",
   "metadata": {},
   "source": [
    "Histogram is consisted with various axes, there are two ways to create a histogram, currently. You can either fill a histogram object with axes or add axes to a histogram object. You cannot add axes to an existing histogram. _Note that to distinguish these two method, the second way has different axis type names (abbr.)._"
   ]
  },
  {
   "cell_type": "code",
   "execution_count": null,
   "metadata": {},
   "outputs": [],
   "source": [
    "# fill the axes\n",
    "h = Hist(axis0, axis1, axis2, axis3, axis4, axis5)"
   ]
  },
  {
   "cell_type": "code",
   "execution_count": null,
   "metadata": {},
   "outputs": [],
   "source": [
    "# add the axes using the shortcut method\n",
    "h = (\n",
    "    Hist.new.Reg(10, -5, 5, overflow=False, underflow=False, name=\"A\")\n",
    "    .Bool(name=\"B\")\n",
    "    .Var(range(10), name=\"C\")\n",
    "    .Int(-5, 5, overflow=False, underflow=False, name=\"D\")\n",
    "    .IntCat(range(10), name=\"E\")\n",
    "    .StrCat([\"T\", \"F\"], name=\"F\")\n",
    "    .Double()\n",
    ")"
   ]
  },
  {
   "cell_type": "code",
   "execution_count": null,
   "metadata": {},
   "outputs": [],
   "source": [
    "assert h.axes[0].name == axis0.name\n",
    "assert h.axes[1].label == axis1.name  # label will be returned as name if not provided\n",
    "assert all(h.axes[2].widths == axis2.widths)\n",
    "assert all(h.axes[3].edges == axis3.edges)\n",
    "assert h.axes[4].metadata == axis4.metadata\n",
    "assert all(h.axes[5].centers == axis5.centers)"
   ]
  }
 ],
 "metadata": {
  "kernelspec": {
   "display_name": "hist",
   "language": "python",
   "name": "hist"
  },
  "language_info": {
   "codemirror_mode": {
    "name": "ipython",
    "version": 3
   },
   "file_extension": ".py",
   "mimetype": "text/x-python",
   "name": "python",
   "nbconvert_exporter": "python",
   "pygments_lexer": "ipython3",
   "version": "3.9.5"
  }
 },
 "nbformat": 4,
 "nbformat_minor": 4
}
