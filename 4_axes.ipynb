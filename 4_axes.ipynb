{
 "cells": [
  {
   "cell_type": "code",
   "execution_count": null,
   "metadata": {},
   "outputs": [],
   "source": [
    "# Make the necessary imports\n",
    "import hist\n",
    "from hist import Hist\n",
    "import ctypes\n",
    "import math\n",
    "import numpy as np"
   ]
  },
  {
   "cell_type": "markdown",
   "metadata": {},
   "source": [
    "# 4: Special histogram axes\n",
    "\n",
    "## 4.1: Transforms\n",
    "\n",
    "Based on [boost-histogram](https://github.com/scikit-hep/boost-histogram)'s Transform, hist provides a powerful transform system on Regular axes that allows you to provide a functional form for the conversion between a regular spacing and the actual bin edges. The following transforms are built in:\n",
    "\n",
    "- `hist.axis.transform.sqrt`: A square root transform;\n",
    "- `hist.axis.transform.log`: A logarithmic transform;\n",
    "- `hist.axis.transform.Pow(power)`: Raise to a specified power;\n",
    "- `hist.axis.transform.Function`: Specify arbitrary conversion functions."
   ]
  },
  {
   "cell_type": "code",
   "execution_count": null,
   "metadata": {},
   "outputs": [],
   "source": [
    "axis0 = hist.axis.Regular(10, 1, 4, name=\"A\", transform=hist.axis.transform.sqrt)\n",
    "axis1 = hist.axis.Regular(10, 1, 4, name=\"B\", transform=hist.axis.transform.log)\n",
    "axis2 = hist.axis.Regular(10, 1, 4, name=\"C\", transform=hist.axis.transform.Pow(2))\n",
    "\n",
    "ftype = ctypes.CFUNCTYPE(ctypes.c_double, ctypes.c_double)\n",
    "axis3 = hist.axis.Regular(\n",
    "    10,\n",
    "    1,\n",
    "    4,\n",
    "    name=\"D\",\n",
    "    transform=hist.axis.transform.Function(ftype(math.log), ftype(math.exp)),\n",
    ")\n",
    "axis4 = hist.axis.Regular(\n",
    "    10,\n",
    "    1,\n",
    "    4,\n",
    "    name=\"E\",\n",
    "    transform=hist.axis.transform.Function(ftype(np.log), ftype(np.exp)),\n",
    ")"
   ]
  },
  {
   "cell_type": "code",
   "execution_count": null,
   "metadata": {},
   "outputs": [],
   "source": [
    "h = Hist(axis0, axis1, axis2, axis3, axis4)"
   ]
  },
  {
   "cell_type": "markdown",
   "metadata": {},
   "source": [
    "Hist also provides transform shortcuts for histograms. hist's keeps the features of boost-histogram, and you can pass transform as a keyword argument when creating an axis. hist also allows you to use the `.new` shortcut directly when creating a Histogram for common transforms:"
   ]
  },
  {
   "cell_type": "code",
   "execution_count": null,
   "metadata": {},
   "outputs": [],
   "source": [
    "h0 = Hist.new.Sqrt(10, 1, 4).Sqrt(10, 4, 9).Double()\n",
    "h1 = Hist.new.Log(10, 1, 4).Log(10, 4, 9).Double()\n",
    "h2 = Hist.new.Pow(10, 1, 4, power=3).Pow(10, 1, 4, power=5).Double()\n",
    "\n",
    "h3 = (\n",
    "    Hist.new.Func(10, 1, 4, forward=ftype(math.log), inverse=ftype(math.exp))\n",
    "    .Func(10, 1, 4, forward=ftype(np.log), inverse=ftype(np.exp))\n",
    "    .Double()\n",
    ")"
   ]
  },
  {
   "cell_type": "markdown",
   "metadata": {},
   "source": [
    "## 4.3: Axis Types\n",
    "\n",
    "Based on boost-histogram’s Axis, hist support six types of axis, `Regular`, `Boolean`, `Variable`, `Integer`, `IntCategory` and `StrCategory` with additional names and labels.\n",
    "\n",
    "Names are pretty useful for some histogramming shortcuts, thus greatly facilitate HEP’s studies. Note that the name is the identifier for an axis in a histogram and must be unique."
   ]
  },
  {
   "cell_type": "code",
   "execution_count": null,
   "metadata": {},
   "outputs": [],
   "source": [
    "axis0 = hist.axis.Regular(10, -5, 5, overflow=False, underflow=False, name=\"A\")\n",
    "axis1 = hist.axis.Boolean(name=\"B\")\n",
    "axis2 = hist.axis.Variable(range(10), name=\"C\")\n",
    "axis3 = hist.axis.Integer(-5, 5, overflow=False, underflow=False, name=\"D\")\n",
    "axis4 = hist.axis.IntCategory(range(10), name=\"E\")\n",
    "axis5 = hist.axis.StrCategory([\"T\", \"F\"], name=\"F\")"
   ]
  },
  {
   "cell_type": "markdown",
   "metadata": {},
   "source": [
    "Histogram is consisted with various axes, there are two ways to create a histogram, currently. You can either fill a histogram object with axes or add axes to a histogram object. You cannot add axes to an existing histogram. _Note that to distinguish these two method, the second way has different axis type names (abbr.)._"
   ]
  },
  {
   "cell_type": "code",
   "execution_count": null,
   "metadata": {},
   "outputs": [],
   "source": [
    "# fill the axes\n",
    "h = Hist(axis0, axis1, axis2, axis3, axis4, axis5)"
   ]
  },
  {
   "cell_type": "code",
   "execution_count": null,
   "metadata": {},
   "outputs": [],
   "source": [
    "# add the axes using the shortcut method\n",
    "h = (\n",
    "    Hist.new.Reg(10, -5, 5, overflow=False, underflow=False, name=\"A\")\n",
    "    .Bool(name=\"B\")\n",
    "    .Var(range(10), name=\"C\")\n",
    "    .Int(-5, 5, overflow=False, underflow=False, name=\"D\")\n",
    "    .IntCat(range(10), name=\"E\")\n",
    "    .StrCat([\"T\", \"F\"], name=\"F\")\n",
    "    .Double()\n",
    ")"
   ]
  },
  {
   "cell_type": "code",
   "execution_count": null,
   "metadata": {},
   "outputs": [],
   "source": [
    "assert h.axes[0].name == axis0.name\n",
    "assert h.axes[1].label == axis1.name  # label will be returned as name if not provided\n",
    "assert all(h.axes[2].widths == axis2.widths)\n",
    "assert all(h.axes[3].edges == axis3.edges)\n",
    "assert h.axes[4].metadata == axis4.metadata\n",
    "assert all(h.axes[5].centers == axis5.centers)"
   ]
  }
 ],
 "metadata": {
  "kernelspec": {
   "display_name": "hist",
   "language": "python",
   "name": "hist"
  },
  "language_info": {
   "codemirror_mode": {
    "name": "ipython",
    "version": 3
   },
   "file_extension": ".py",
   "mimetype": "text/x-python",
   "name": "python",
   "nbconvert_exporter": "python",
   "pygments_lexer": "ipython3",
   "version": "3.9.5"
  }
 },
 "nbformat": 4,
 "nbformat_minor": 4
}
