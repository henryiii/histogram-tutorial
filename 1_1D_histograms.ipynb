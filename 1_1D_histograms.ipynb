{
 "cells": [
  {
   "cell_type": "code",
   "execution_count": null,
   "metadata": {},
   "outputs": [],
   "source": [
    "import hist\n",
    "import numpy as np\n",
    "import matplotlib.pyplot as plt\n",
    "\n",
    "# Make a random number generator\n",
    "rng = np.random.default_rng()"
   ]
  },
  {
   "cell_type": "markdown",
   "metadata": {},
   "source": [
    "# Classic histograms in 1D\n",
    "\n",
    "Let's start with the basics. We will create a histogram the classic way, using a simple, random dataset."
   ]
  },
  {
   "cell_type": "markdown",
   "metadata": {},
   "source": [
    "## Simple introduction\n",
    "\n",
    "Let's make a 1d dataset to run on."
   ]
  },
  {
   "cell_type": "code",
   "execution_count": null,
   "metadata": {},
   "outputs": [],
   "source": [
    "data1 = rng.normal(3.5, 2.5, size=1_000_000)"
   ]
  },
  {
   "cell_type": "markdown",
   "metadata": {},
   "source": [
    "This is a random, gaussian dataset. If you wanted to visualize it, you would probably would _NOT_ do this (plotting only the first 1,000 points just to keep SVG/PDF backends from bogging down):\n"
   ]
  },
  {
   "cell_type": "code",
   "execution_count": null,
   "metadata": {},
   "outputs": [],
   "source": [
    "plt.plot(data1[:1_000], '.');"
   ]
  },
  {
   "cell_type": "markdown",
   "metadata": {},
   "source": [
    "Instead, you would usually look at your data using a histogram like this:"
   ]
  },
  {
   "cell_type": "code",
   "execution_count": null,
   "metadata": {},
   "outputs": [],
   "source": [
    "plt.hist(data1, bins='auto');"
   ]
  },
  {
   "cell_type": "markdown",
   "metadata": {},
   "source": [
    "Now you can infer much more about the distribution; you can see the shape and the width directly from this image.\n",
    "This is _one_ of the uses of a histogram, often the one you are most familar with; it's a vizualization tool. But it's much, much more too.\n",
    "\n",
    "If you wanted to actually convert this to a histogram yourself, you can use NumPy's built in function:"
   ]
  },
  {
   "cell_type": "code",
   "execution_count": null,
   "metadata": {},
   "outputs": [],
   "source": [
    "np.histogram(data1, range=(-5, 10), bins=10)"
   ]
  },
  {
   "cell_type": "markdown",
   "metadata": {},
   "source": [
    "The return value here is two NumPy arrays, one with bin contents (frequencies), and the other with bin edges. You are responsible for keeping these in sync if you manipulate further."
   ]
  },
  {
   "cell_type": "markdown",
   "metadata": {},
   "source": [
    "We can smoothy transition to using the hist library by using the `hist.numpy` adaptor."
   ]
  },
  {
   "cell_type": "code",
   "execution_count": null,
   "metadata": {},
   "outputs": [],
   "source": [
    "hist.numpy.histogram(data1, range=(-5, 10), bins=10)"
   ]
  },
  {
   "cell_type": "markdown",
   "metadata": {},
   "source": [
    "Is there a reason we might want to do this (other than to get to the remainder of the lesson)? Let's check performance:"
   ]
  },
  {
   "cell_type": "code",
   "execution_count": null,
   "metadata": {},
   "outputs": [],
   "source": [
    "%%timeit\n",
    "_,_ = np.histogram(data1, bins=100)"
   ]
  },
  {
   "cell_type": "code",
   "execution_count": null,
   "metadata": {},
   "outputs": [],
   "source": [
    "%%timeit\n",
    "_,_ = hist.numpy.histogram(data1, bins=100, threads=2)"
   ]
  },
  {
   "cell_type": "markdown",
   "metadata": {},
   "source": [
    "Hist is backed by the boost-histogram library, providing compiled performance based on the C++ Boost.Histogram. We'll see even more impressive speedups later; NumPy optimizes for regular binning in 1D, but not elsewhere."
   ]
  },
  {
   "cell_type": "markdown",
   "metadata": {},
   "source": [
    "## The histogram object"
   ]
  },
  {
   "cell_type": "markdown",
   "metadata": {},
   "source": [
    "Now, let's see what a Histogram object looks like."
   ]
  },
  {
   "cell_type": "code",
   "execution_count": null,
   "metadata": {},
   "outputs": [],
   "source": [
    "h = hist.numpy.histogram(data1, bins=100, histogram=hist.Hist)\n",
    "h"
   ]
  },
  {
   "cell_type": "code",
   "execution_count": null,
   "metadata": {},
   "outputs": [],
   "source": [
    "h.plot();"
   ]
  },
  {
   "cell_type": "markdown",
   "metadata": {},
   "source": [
    "This is now an _object_, rather than a tuple of NumPy arrays."
   ]
  },
  {
   "cell_type": "markdown",
   "metadata": {},
   "source": [
    "Now let's graduate from the NumPy interface, and make a Histogram directly without the adaptor:"
   ]
  },
  {
   "cell_type": "code",
   "execution_count": null,
   "metadata": {},
   "outputs": [],
   "source": [
    "h = hist.Hist(hist.axis.Regular(300, -5, 10, name=\"x\"))\n",
    "h.fill(data1)"
   ]
  },
  {
   "cell_type": "markdown",
   "metadata": {},
   "source": [
    "There is something to notice here; the fill method mutates the histogram object (it does return itself, so you can chain this functional style if you want). This means that you can fill the histogram multiple times, it's not one-and-done like NumPy!"
   ]
  },
  {
   "cell_type": "markdown",
   "metadata": {},
   "source": [
    "You can slice it:"
   ]
  },
  {
   "cell_type": "code",
   "execution_count": null,
   "metadata": {},
   "outputs": [],
   "source": [
    "h[20:40]"
   ]
  },
  {
   "cell_type": "markdown",
   "metadata": {},
   "source": [
    "Notice how the bin information is propogated with the histogram.\n",
    "\n",
    "\n",
    "If you want to slice in data coordinates, just use data coordinates and add a \"j\" suffix. The same slice as above:"
   ]
  },
  {
   "cell_type": "code",
   "execution_count": null,
   "metadata": {},
   "outputs": [],
   "source": [
    "h[-4j:-3j]"
   ]
  },
  {
   "cell_type": "markdown",
   "metadata": {},
   "source": [
    "You can even mix location and bin number access. You can also rebin by placing a `j` suffixed number in the final slice slot, which we call the \"action\". This looks quite a bit like a step, but instead of every Nth bins, you are merging N adjacent bins."
   ]
  },
  {
   "cell_type": "code",
   "execution_count": null,
   "metadata": {},
   "outputs": [],
   "source": [
    "h[::10j]"
   ]
  },
  {
   "cell_type": "markdown",
   "metadata": {},
   "source": [
    "Let's look at some information about the histogram. First, how about the sum?"
   ]
  },
  {
   "cell_type": "code",
   "execution_count": null,
   "metadata": {},
   "outputs": [],
   "source": [
    "h.sum()"
   ]
  },
  {
   "cell_type": "markdown",
   "metadata": {},
   "source": [
    "That's not the total number of entries we put in. Why not?\n",
    "\n",
    "---\n",
    "<details><summary>Click to show answer</summary>\n",
    "\n",
    "Answer: they were outside the range of the Axis. Some of them were too large, some were too low. There are special (and optional) bins for these two cases, called the underflow and the overflow. We can include them in the sum:\n",
    "    \n",
    "```python\n",
    "h.sum(flow=True)\n",
    "```\n",
    "    \n",
    "Later these will enable some powerful things like lossless projections. Most of the time, you can ignore they are there.\n",
    "    \n",
    "</details>"
   ]
  },
  {
   "cell_type": "code",
   "execution_count": null,
   "metadata": {},
   "outputs": [],
   "source": []
  },
  {
   "cell_type": "markdown",
   "metadata": {},
   "source": [
    "Let's plot this by hand instead of calling `.plot()`:"
   ]
  },
  {
   "cell_type": "code",
   "execution_count": null,
   "metadata": {},
   "outputs": [],
   "source": [
    "plt.bar(h.axes[0].centers, h.values(), width=h.axes[0].widths);"
   ]
  },
  {
   "cell_type": "markdown",
   "metadata": {},
   "source": [
    "Note: You can leave off the `.values()` if you want to - histograms conform to the Python buffer protocol and directly expose their `.view()` memory. There will be a lot more on this later. The above will work with any storage, making it more correct in this case.\n",
    "\n",
    "You can begin to see how, while we are currently discussing 1D histograms, ND histograms have exactly the same interface, just with more axes."
   ]
  },
  {
   "cell_type": "markdown",
   "metadata": {},
   "source": [
    "Aside: here's step. It's quite ugly for us out of the box in matplotlib, just like it is for numpy. In Matplotlib 3.4, we have added a `plt.stairs` function which makes plotting beautiful pre-binned histograms much simpler."
   ]
  },
  {
   "cell_type": "code",
   "execution_count": null,
   "metadata": {},
   "outputs": [],
   "source": [
    "plt.step(h.axes[0].edges[:-1], h, where='post');"
   ]
  },
  {
   "cell_type": "markdown",
   "metadata": {},
   "source": [
    "This is not _quite_ right, the edges are inconsistent (as you might gather from having to leave one edge off above) but `plt.stairs` fixes this; polishing it off manualy is quite a bit of effort.\n"
   ]
  },
  {
   "cell_type": "code",
   "execution_count": null,
   "metadata": {},
   "outputs": [],
   "source": [
    "plt.stairs(h, h.axes[0].edges);"
   ]
  },
  {
   "cell_type": "markdown",
   "metadata": {},
   "source": [
    "Now that's better!"
   ]
  },
  {
   "cell_type": "markdown",
   "metadata": {},
   "source": [
    "## Properties\n",
    "\n",
    "There are some fantastic properties of Histograms that make analysis simple and easy. Let's look at axis breifly, using a rebinned histogram to keep the display short and sweet:"
   ]
  },
  {
   "cell_type": "code",
   "execution_count": null,
   "metadata": {},
   "outputs": [],
   "source": [
    "hs = h[::30j]"
   ]
  },
  {
   "cell_type": "code",
   "execution_count": null,
   "metadata": {},
   "outputs": [],
   "source": [
    "hs.axes[0].centers"
   ]
  },
  {
   "cell_type": "code",
   "execution_count": null,
   "metadata": {},
   "outputs": [],
   "source": [
    "hs.axes[0].edges"
   ]
  },
  {
   "cell_type": "code",
   "execution_count": null,
   "metadata": {},
   "outputs": [],
   "source": [
    "hs.axes[0].widths"
   ]
  },
  {
   "cell_type": "code",
   "execution_count": null,
   "metadata": {},
   "outputs": [],
   "source": [
    "hs.axes[0].name"
   ]
  },
  {
   "cell_type": "markdown",
   "metadata": {},
   "source": [
    "The PlottableHistogram Protocol has severl useful methods:"
   ]
  },
  {
   "cell_type": "code",
   "execution_count": null,
   "metadata": {},
   "outputs": [],
   "source": [
    "hs.values()"
   ]
  },
  {
   "cell_type": "code",
   "execution_count": null,
   "metadata": {},
   "outputs": [],
   "source": [
    "hs.variances()  # may be None for an unweighted histogram, depending on the fill"
   ]
  },
  {
   "cell_type": "code",
   "execution_count": null,
   "metadata": {},
   "outputs": [],
   "source": [
    "hs.counts()  # more interesting later"
   ]
  },
  {
   "cell_type": "markdown",
   "metadata": {},
   "source": [
    "And, of course, we can directly look at the underlying memory, which is pretty simple in this case:"
   ]
  },
  {
   "cell_type": "code",
   "execution_count": null,
   "metadata": {},
   "outputs": [],
   "source": [
    "hs.view()"
   ]
  },
  {
   "cell_type": "markdown",
   "metadata": {},
   "source": [
    "## Making a density histogram"
   ]
  },
  {
   "cell_type": "markdown",
   "metadata": {},
   "source": [
    "Let's try to make a density histogram like NumPy's/matplotlib's. This is how you would do with in those packages:"
   ]
  },
  {
   "cell_type": "code",
   "execution_count": null,
   "metadata": {},
   "outputs": [],
   "source": [
    "# Interesting edges\n",
    "bins = [-10, -7, -4, -3, -2, -1, -.75, -.5, -.25, 0, .25, .5, .75, 1, 2, 3, 4, 7, 10]\n",
    "\n",
    "# Make a density array and edges array\n",
    "d7, e7 = np.histogram(data1 - 3.5, bins=bins, density=True)\n",
    "\n",
    "# Plot (recompute histogram)\n",
    "plt.hist(data1 - 3.5, bins=bins, density=True);"
   ]
  },
  {
   "cell_type": "markdown",
   "metadata": {},
   "source": [
    "Yes, it's ugly. Don't judge.\n",
    "\n",
    "Yes, I'm aware there's a `.density()` method in Hist and a density keyword in plot:"
   ]
  },
  {
   "cell_type": "code",
   "execution_count": null,
   "metadata": {},
   "outputs": [],
   "source": [
    "hd = hist.Hist(hist.axis.Variable(bins))\n",
    "hd.fill(data1 - 3.5)\n",
    "hd.plot(density=True);"
   ]
  },
  {
   "cell_type": "markdown",
   "metadata": {},
   "source": [
    "But that's not fun and instructive, so let's try making out of basic building blocks."
   ]
  },
  {
   "cell_type": "code",
   "execution_count": null,
   "metadata": {},
   "outputs": [],
   "source": [
    "widths = hd.axes.widths\n",
    "area = np.prod(widths, axis=0)\n",
    "\n",
    "area"
   ]
  },
  {
   "cell_type": "markdown",
   "metadata": {},
   "source": [
    "Yes, that does not need to be so complicated for 1D, but it's general; this exact procedure will also support ND histograms!"
   ]
  },
  {
   "cell_type": "code",
   "execution_count": null,
   "metadata": {},
   "outputs": [],
   "source": [
    "factor = np.sum(hd.values())\n",
    "density = hd.values() / (factor * area)"
   ]
  },
  {
   "cell_type": "code",
   "execution_count": null,
   "metadata": {},
   "outputs": [],
   "source": [
    "plt.bar(hd.axes[0].centers, density, width=hd.axes[0].widths);"
   ]
  },
  {
   "cell_type": "markdown",
   "metadata": {},
   "source": [
    "And there it is! Each of these different properties worked together to provide a basis for computing the density. If we wanted to compute other quanities, these same building blocks would be easy to use for those, too."
   ]
  },
  {
   "cell_type": "code",
   "execution_count": null,
   "metadata": {},
   "outputs": [],
   "source": [
    "density, hd.density()"
   ]
  },
  {
   "cell_type": "markdown",
   "metadata": {},
   "source": [
    "Let's break up and try worksheet one!"
   ]
  }
 ],
 "metadata": {
  "kernelspec": {
   "display_name": "Python [conda env:histogram-tutorial] *",
   "language": "python",
   "name": "conda-env-histogram-tutorial-py"
  },
  "language_info": {
   "codemirror_mode": {
    "name": "ipython",
    "version": 3
   },
   "file_extension": ".py",
   "mimetype": "text/x-python",
   "name": "python",
   "nbconvert_exporter": "python",
   "pygments_lexer": "ipython3",
   "version": "3.9.6"
  },
  "toc-autonumbering": true
 },
 "nbformat": 4,
 "nbformat_minor": 4
}
